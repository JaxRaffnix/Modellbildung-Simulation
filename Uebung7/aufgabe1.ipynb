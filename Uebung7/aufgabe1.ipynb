{
 "cells": [
  {
   "cell_type": "code",
   "execution_count": 26,
   "metadata": {},
   "outputs": [],
   "source": [
    "from matplotlib import pyplot as plt\n",
    "import numpy as np\n",
    "import pandas as pd\n",
    "from scipy import signal"
   ]
  },
  {
   "cell_type": "markdown",
   "metadata": {},
   "source": [
    "# Gemessene Werte"
   ]
  },
  {
   "cell_type": "code",
   "execution_count": 27,
   "metadata": {},
   "outputs": [],
   "source": [
    "with np.load(\"messwerte.npz\") as file:\n",
    "    measurement = pd.DataFrame({\"time\" : file[\"t_mess\"], \"u_a\" : file[\"u_a_mess\"]})"
   ]
  },
  {
   "cell_type": "markdown",
   "metadata": {},
   "source": [
    "# Errechnete Werte"
   ]
  },
  {
   "cell_type": "code",
   "execution_count": 28,
   "metadata": {},
   "outputs": [
    {
     "ename": "ValueError",
     "evalue": "could not broadcast input array from shape (501,) into shape (2,)",
     "output_type": "error",
     "traceback": [
      "\u001b[1;31m---------------------------------------------------------------------------\u001b[0m",
      "\u001b[1;31mValueError\u001b[0m                                Traceback (most recent call last)",
      "\u001b[1;32mc:\\Users\\janho\\Coding\\Python-Modellbildung-Simulation\\Uebung7\\aufgabe1.ipynb Cell 5\u001b[0m line \u001b[0;36m9\n\u001b[0;32m      <a href='vscode-notebook-cell:/c%3A/Users/janho/Coding/Python-Modellbildung-Simulation/Uebung7/aufgabe1.ipynb#W3sZmlsZQ%3D%3D?line=6'>7</a>\u001b[0m sys\u001b[39m=\u001b[39msignal\u001b[39m.\u001b[39mTransferFunction(num, den)\n\u001b[0;32m      <a href='vscode-notebook-cell:/c%3A/Users/janho/Coding/Python-Modellbildung-Simulation/Uebung7/aufgabe1.ipynb#W3sZmlsZQ%3D%3D?line=7'>8</a>\u001b[0m t_vec\u001b[39m=\u001b[39mnp\u001b[39m.\u001b[39mlinspace(\u001b[39m0\u001b[39m,\u001b[39m0.25\u001b[39m,\u001b[39m501\u001b[39m)\n\u001b[1;32m----> <a href='vscode-notebook-cell:/c%3A/Users/janho/Coding/Python-Modellbildung-Simulation/Uebung7/aufgabe1.ipynb#W3sZmlsZQ%3D%3D?line=8'>9</a>\u001b[0m calculated_u_a\u001b[39m=\u001b[39m\u001b[39m2\u001b[39m\u001b[39m*\u001b[39msignal\u001b[39m.\u001b[39;49mstep(sys, t_vec)[\u001b[39m1\u001b[39m]\n",
      "File \u001b[1;32mc:\\Users\\janho\\scoop\\apps\\python\\current\\Lib\\site-packages\\scipy\\signal\\_ltisys.py:2463\u001b[0m, in \u001b[0;36mstep\u001b[1;34m(system, X0, T, N)\u001b[0m\n\u001b[0;32m   2461\u001b[0m     T \u001b[39m=\u001b[39m asarray(T)\n\u001b[0;32m   2462\u001b[0m U \u001b[39m=\u001b[39m ones(T\u001b[39m.\u001b[39mshape, sys\u001b[39m.\u001b[39mA\u001b[39m.\u001b[39mdtype)\n\u001b[1;32m-> 2463\u001b[0m vals \u001b[39m=\u001b[39m lsim(sys, U, T, X0\u001b[39m=\u001b[39;49mX0, interp\u001b[39m=\u001b[39;49m\u001b[39mFalse\u001b[39;49;00m)\n\u001b[0;32m   2464\u001b[0m \u001b[39mreturn\u001b[39;00m vals[\u001b[39m0\u001b[39m], vals[\u001b[39m1\u001b[39m]\n",
      "File \u001b[1;32mc:\\Users\\janho\\scoop\\apps\\python\\current\\Lib\\site-packages\\scipy\\signal\\_ltisys.py:2102\u001b[0m, in \u001b[0;36mlsim\u001b[1;34m(system, U, T, X0, interp)\u001b[0m\n\u001b[0;32m   2099\u001b[0m xout \u001b[39m=\u001b[39m np\u001b[39m.\u001b[39mempty((n_steps, n_states), sys\u001b[39m.\u001b[39mA\u001b[39m.\u001b[39mdtype)\n\u001b[0;32m   2101\u001b[0m \u001b[39mif\u001b[39;00m T[\u001b[39m0\u001b[39m] \u001b[39m==\u001b[39m \u001b[39m0\u001b[39m:\n\u001b[1;32m-> 2102\u001b[0m     xout[\u001b[39m0\u001b[39;49m] \u001b[39m=\u001b[39m X0\n\u001b[0;32m   2103\u001b[0m \u001b[39melif\u001b[39;00m T[\u001b[39m0\u001b[39m] \u001b[39m>\u001b[39m \u001b[39m0\u001b[39m:\n\u001b[0;32m   2104\u001b[0m     \u001b[39m# step forward to initial time, with zero input\u001b[39;00m\n\u001b[0;32m   2105\u001b[0m     xout[\u001b[39m0\u001b[39m] \u001b[39m=\u001b[39m dot(X0, linalg\u001b[39m.\u001b[39mexpm(transpose(A) \u001b[39m*\u001b[39m T[\u001b[39m0\u001b[39m]))\n",
      "\u001b[1;31mValueError\u001b[0m: could not broadcast input array from shape (501,) into shape (2,)"
     ]
    }
   ],
   "source": [
    "R=20\n",
    "L=9e-3\n",
    "Cap=1000e-6\n",
    "\n",
    "num=[1/(R*Cap), 0]\n",
    "den=[1, 1/(R*Cap), 1/(L*Cap)]\n",
    "sys=signal.TransferFunction(num, den)\n",
    "t_vec=np.linspace(0,0.25,501)\n",
    "calculated_u_a=2*signal.step(sys, T=t_vec)[1]"
   ]
  },
  {
   "cell_type": "markdown",
   "metadata": {},
   "source": [
    "# Plotting"
   ]
  },
  {
   "cell_type": "code",
   "execution_count": null,
   "metadata": {},
   "outputs": [],
   "source": [
    "plt.plot(measurement[\"time\"], measurement[\"u_a\"], label=\"Messwerte\")\n",
    "plt.plot(measurement[\"time\"], calculated_u_a, label='Rechenwerte')\n",
    "\n",
    "plt.legend()\n",
    "plt.show()"
   ]
  }
 ],
 "metadata": {
  "kernelspec": {
   "display_name": "Python 3",
   "language": "python",
   "name": "python3"
  },
  "language_info": {
   "codemirror_mode": {
    "name": "ipython",
    "version": 3
   },
   "file_extension": ".py",
   "mimetype": "text/x-python",
   "name": "python",
   "nbconvert_exporter": "python",
   "pygments_lexer": "ipython3",
   "version": "3.11.5"
  },
  "orig_nbformat": 4
 },
 "nbformat": 4,
 "nbformat_minor": 2
}
