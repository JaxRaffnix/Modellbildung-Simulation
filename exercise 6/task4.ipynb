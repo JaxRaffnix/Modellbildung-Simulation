{
 "cells": [
  {
   "cell_type": "code",
   "execution_count": 2,
   "metadata": {},
   "outputs": [],
   "source": [
    "from OMPython import ModelicaSystem\n",
    "import matplotlib.pyplot as plt\n",
    "\n",
    "# !!! Cave: Make sure to run the python code in the same folder it is stored in.\n",
    "# !!! Cave: Model name is case sensitive !\n",
    "# !!! ompython dependency error distutils: solve by pip install setuptools"
   ]
  },
  {
   "cell_type": "code",
   "execution_count": 6,
   "metadata": {},
   "outputs": [
    {
     "name": "stderr",
     "output_type": "stream",
     "text": [
      "Exception ignored in: <function ModelicaSystem.__del__ at 0x000002ABE8FFF920>\n",
      "Traceback (most recent call last):\n",
      "  File \"c:\\Users\\janho\\scoop\\apps\\python\\current\\Lib\\site-packages\\OMPython\\__init__.py\", line 862, in __del__\n",
      "    OMCSessionBase.__del__(self)\n",
      "  File \"c:\\Users\\janho\\scoop\\apps\\python\\current\\Lib\\site-packages\\OMPython\\__init__.py\", line 172, in __del__\n",
      "    self._omc_log_file.close()\n",
      "    ^^^^^^^^^^^^^^^^^^\n",
      "AttributeError: 'ModelicaSystem' object has no attribute '_omc_log_file'\n",
      "Exception ignored in: <function ModelicaSystem.__del__ at 0x000002ABE8FFF920>\n",
      "Traceback (most recent call last):\n",
      "  File \"c:\\Users\\janho\\scoop\\apps\\python\\current\\Lib\\site-packages\\OMPython\\__init__.py\", line 862, in __del__\n",
      "    OMCSessionBase.__del__(self)\n",
      "  File \"c:\\Users\\janho\\scoop\\apps\\python\\current\\Lib\\site-packages\\OMPython\\__init__.py\", line 172, in __del__\n",
      "    self._omc_log_file.close()\n",
      "    ^^^^^^^^^^^^^^^^^^\n",
      "AttributeError: 'ModelicaSystem' object has no attribute '_omc_log_file'\n"
     ]
    },
    {
     "name": "stdout",
     "output_type": "stream",
     "text": [
      "Notification: Automatically loaded package Complex 4.0.0 due to uses annotation from Modelica.\n",
      "Notification: Automatically loaded package ModelicaServices 4.0.0 due to uses annotation from Modelica.\n",
      "Notification: Automatically loaded package Modelica 4.0.0 due to usage.\n",
      "[c:/Users/janho/Coding/Python-Modellbildung-Simulation/exercise 6/A3.mo:2:3-2:31:writable] Error: Import Modelica.SIunits not found in scope <top>.\n",
      "[c:/Users/janho/Coding/Python-Modellbildung-Simulation/exercise 6/A3.mo:3:3-3:31:writable] Error: Class SI.Time not found in scope A3.\n",
      "\n"
     ]
    },
    {
     "ename": "Exception",
     "evalue": "Error: Application file path not found: C:/Users/janho/AppData/Local/Temp/tmp1d7nk0jj/A3.exe",
     "output_type": "error",
     "traceback": [
      "\u001b[1;31m---------------------------------------------------------------------------\u001b[0m",
      "\u001b[1;31mException\u001b[0m                                 Traceback (most recent call last)",
      "\u001b[1;32mc:\\Users\\janho\\Coding\\Python-Modellbildung-Simulation\\exercise 6\\task4.ipynb Cell 2\u001b[0m line \u001b[0;36m4\n\u001b[0;32m      <a href='vscode-notebook-cell:/c%3A/Users/janho/Coding/Python-Modellbildung-Simulation/exercise%206/task4.ipynb#W1sZmlsZQ%3D%3D?line=0'>1</a>\u001b[0m modelname \u001b[39m=\u001b[39m \u001b[39m\"\u001b[39m\u001b[39mA3\u001b[39m\u001b[39m\"\u001b[39m\n\u001b[0;32m      <a href='vscode-notebook-cell:/c%3A/Users/janho/Coding/Python-Modellbildung-Simulation/exercise%206/task4.ipynb#W1sZmlsZQ%3D%3D?line=1'>2</a>\u001b[0m model \u001b[39m=\u001b[39m ModelicaSystem(modelname\u001b[39m+\u001b[39m\u001b[39m'\u001b[39m\u001b[39m.mo\u001b[39m\u001b[39m'\u001b[39m, modelname, [\u001b[39m'\u001b[39m\u001b[39m./ModSimBib/package.mo\u001b[39m\u001b[39m'\u001b[39m])\n\u001b[1;32m----> <a href='vscode-notebook-cell:/c%3A/Users/janho/Coding/Python-Modellbildung-Simulation/exercise%206/task4.ipynb#W1sZmlsZQ%3D%3D?line=3'>4</a>\u001b[0m model\u001b[39m.\u001b[39;49msimulate()\n",
      "File \u001b[1;32mc:\\Users\\janho\\scoop\\apps\\python\\current\\Lib\\site-packages\\OMPython\\__init__.py:1265\u001b[0m, in \u001b[0;36mModelicaSystem.simulate\u001b[1;34m(self, resultfile, simflags)\u001b[0m\n\u001b[0;32m   1263\u001b[0m     \u001b[39mself\u001b[39m\u001b[39m.\u001b[39msimulationFlag \u001b[39m=\u001b[39m \u001b[39mTrue\u001b[39;00m\n\u001b[0;32m   1264\u001b[0m \u001b[39melse\u001b[39;00m:\n\u001b[1;32m-> 1265\u001b[0m     \u001b[39mraise\u001b[39;00m \u001b[39mException\u001b[39;00m(\u001b[39m\"\u001b[39m\u001b[39mError: Application file path not found: \u001b[39m\u001b[39m\"\u001b[39m \u001b[39m+\u001b[39m  getExeFile)\n",
      "\u001b[1;31mException\u001b[0m: Error: Application file path not found: C:/Users/janho/AppData/Local/Temp/tmp1d7nk0jj/A3.exe"
     ]
    }
   ],
   "source": [
    "modelname = \"A3\"\n",
    "model = ModelicaSystem(modelname+'.mo', modelname, ['./ModSimBib/package.mo'])\n",
    "\n",
    "model.simulate()"
   ]
  }
 ],
 "metadata": {
  "kernelspec": {
   "display_name": "Python 3",
   "language": "python",
   "name": "python3"
  },
  "language_info": {
   "codemirror_mode": {
    "name": "ipython",
    "version": 3
   },
   "file_extension": ".py",
   "mimetype": "text/x-python",
   "name": "python",
   "nbconvert_exporter": "python",
   "pygments_lexer": "ipython3",
   "version": "3.12.0"
  }
 },
 "nbformat": 4,
 "nbformat_minor": 2
}
