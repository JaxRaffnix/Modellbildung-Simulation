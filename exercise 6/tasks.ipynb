{
 "cells": [
  {
   "cell_type": "code",
   "execution_count": 2,
   "metadata": {},
   "outputs": [],
   "source": [
    "from OMPython import ModelicaSystem\n",
    "import matplotlib.pyplot as plt\n",
    "\n",
    "# !!! Cave: Make sure to run the python code in the same folder it is stored in.\n",
    "# !!! Cave: Model name is case sensitive !"
   ]
  },
  {
   "cell_type": "code",
   "execution_count": 6,
   "metadata": {},
   "outputs": [
    {
     "name": "stdout",
     "output_type": "stream",
     "text": [
      "Warning: The initial conditions are not fully specified. For more information set -d=initialization. In OMEdit Tools->Options->Simulation->Show additional information from the initialization process, in OMNotebook call setCommandLineOptions(\"-d=initialization\").\n",
      "\n",
      "!!!  i_L  does not exist\n",
      "\n"
     ]
    }
   ],
   "source": [
    "modelname = \"Circuit\"\n",
    "model = ModelicaSystem(modelname+\".mo\", modelname)\n",
    "\n",
    "model.simulate()\n",
    "results = model.getSolutions(['time', \"i_l\", \"i_q\", \"u_l\"])\n",
    "# time = results[0]\n",
    "# coil_current= results[1]\n",
    "# source_current = results[2]\n",
    "# coil_voltage = results[3]"
   ]
  },
  {
   "cell_type": "code",
   "execution_count": null,
   "metadata": {},
   "outputs": [],
   "source": [
    "plt.plot(time, coil_current, source_current)\n",
    "plt.title(\"Circuit Currents\")\n",
    "plt.legend()\n",
    "plt.show()\n",
    "\n",
    "plt.plot(time, coil_voltage)\n",
    "plt.title(\"Circuit Currents\")\n",
    "plt.legend()\n",
    "plt.show()"
   ]
  }
 ],
 "metadata": {
  "kernelspec": {
   "display_name": "Python 3",
   "language": "python",
   "name": "python3"
  },
  "language_info": {
   "codemirror_mode": {
    "name": "ipython",
    "version": 3
   },
   "file_extension": ".py",
   "mimetype": "text/x-python",
   "name": "python",
   "nbconvert_exporter": "python",
   "pygments_lexer": "ipython3",
   "version": "3.12.0"
  }
 },
 "nbformat": 4,
 "nbformat_minor": 2
}
