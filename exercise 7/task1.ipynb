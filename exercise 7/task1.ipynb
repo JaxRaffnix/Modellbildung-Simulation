{
 "cells": [
  {
   "cell_type": "markdown",
   "metadata": {},
   "source": [
    "# Task\n",
    "Find the actual component values of the bandpass filter in fig. 1 by comparing them with their nominal values.\n",
    "\n",
    "- Compare the measured response voltage $U_a$ with the expected response voltage of the nominal component values and determine the error. \n",
    "- Minimize the calculated error for different component values.\n",
    "![Circuit Diagramm](circuit.png)"
   ]
  },
  {
   "cell_type": "code",
   "execution_count": null,
   "metadata": {},
   "outputs": [],
   "source": [
    "from matplotlib import pyplot as plt\n",
    "import numpy as np\n",
    "import pandas as pd\n",
    "import scipy as sci"
   ]
  },
  {
   "cell_type": "markdown",
   "metadata": {},
   "source": [
    "# Get Data"
   ]
  },
  {
   "cell_type": "code",
   "execution_count": null,
   "metadata": {},
   "outputs": [],
   "source": [
    "# import measured data from file and create DataFrame\n",
    "with np.load(\"messwerte.npz\") as file:\n",
    "    u_a = pd.DataFrame({\"time\" : file[\"t_mess\"], \"measured\" : file[\"u_a_mess\"]})\n",
    "\n",
    "\n",
    "def expected_datapoints(coil, capacitor, time_points):\n",
    "    # return calculated datapoints by creating LTI System with given parameters\n",
    "    RESISTOR=20\n",
    "    VOLTAGE = 2\n",
    "\n",
    "    numerator=[1/(RESISTOR*capacitor), 0]\n",
    "    denominator=[1, 1/(RESISTOR*capacitor), 1/(coil*capacitor)]\n",
    "    system=signal.lti(numerator, denominator)\n",
    "\n",
    "    return VOLTAGE*sci.signal.step(system, T=time_points)[1]\n",
    "\n",
    "# append dataframe\n",
    "COIL=9e-3\n",
    "CAPACITOR=1000e-6\n",
    "u_a[\"calculated\"] = expected_datapoints(COIL, CAPACITOR, u_a[\"time\"])"
   ]
  },
  {
   "cell_type": "markdown",
   "metadata": {},
   "source": [
    "# Analysis\n",
    "\n",
    "## Plot Expected and Measured Data"
   ]
  },
  {
   "cell_type": "code",
   "execution_count": null,
   "metadata": {},
   "outputs": [],
   "source": [
    "plt.plot(u_a[\"time\"], u_a[\"measured\"], label=\"Messwerte\")\n",
    "plt.plot(u_a[\"time\"], u_a[\"calculated\"], label='Rechenwerte')\n",
    "\n",
    "plt.title(\"Sprungantwort $U_a$ des Bandpasses\")\n",
    "plt.xlabel(\"Zeit in $s$\")\n",
    "plt.ylabel(\"$U_a$ in $V$\")\n",
    "plt.legend()\n",
    "\n",
    "plt.show()"
   ]
  },
  {
   "cell_type": "markdown",
   "metadata": {},
   "source": [
    "## Find sum of squared error"
   ]
  },
  {
   "cell_type": "code",
   "execution_count": null,
   "metadata": {},
   "outputs": [],
   "source": [
    "def sum_squared_error(calculated, measured): \n",
    "    # Calculate the sum square error of 2 1D arrays\n",
    "    return np.round(np.sum(np.square(np.subtract(measured, calculated))) *10**6, 2)\n",
    "\n",
    "# calculate the root mean square error for the given hardware parameters\n",
    "sqe = sum_squared_error(u_a[\"calculated\"], u_a[\"measured\"])\n",
    "print(f\"Quadratische Fehlersumme mit Nennwerten: {sqe} e-6\")\n",
    "\n",
    "# Find minimum root mean square error next to given hardware parameter\n",
    "COIL_LOWER = 7e-3\n",
    "COIL_UPPER = 12e-3\n",
    "CAPACITOR_LOWER = 9 * 100e-6\n",
    "CAPACITOR_UPPER = 16 * 100e-6\n",
    "STEPS = 50\n",
    "COIL_LIST = np.linspace(COIL_LOWER, COIL_UPPER, STEPS)\n",
    "CAPACITOR_LIST = np.linspace(CAPACITOR_LOWER, CAPACITOR_UPPER, STEPS) \n",
    "\n",
    "x, y = np.meshgrid(COIL_LIST, CAPACITOR_LIST)\n",
    "\n",
    "# Z = sum_squared_error(u_a[\"calculated\"], )\n",
    "\n",
    "# Z = sum_squared_error(calculated, u_a[\"measured\"])\n",
    "# plt.contourf(x, y, Z)\n",
    "# plt.show()\n",
    "\n",
    "# Z_min = sci.optimize.minimize(sum_squared_error, x0=[0.1**3, 0.1**2])"
   ]
  },
  {
   "cell_type": "markdown",
   "metadata": {},
   "source": [
    "## Find sum of squared error with variable parameters"
   ]
  },
  {
   "cell_type": "code",
   "execution_count": 145,
   "metadata": {},
   "outputs": [
    {
     "ename": "TypeError",
     "evalue": "only integer scalar arrays can be converted to a scalar index",
     "output_type": "error",
     "traceback": [
      "\u001b[1;31m---------------------------------------------------------------------------\u001b[0m",
      "\u001b[1;31mTypeError\u001b[0m                                 Traceback (most recent call last)",
      "\u001b[1;32mc:\\Users\\janho\\Coding\\Python-Modellbildung-Simulation\\Uebung7\\aufgabe1.ipynb Cell 9\u001b[0m line \u001b[0;36m4\n\u001b[0;32m      <a href='vscode-notebook-cell:/c%3A/Users/janho/Coding/Python-Modellbildung-Simulation/Uebung7/aufgabe1.ipynb#X24sZmlsZQ%3D%3D?line=1'>2</a>\u001b[0m \u001b[39mfor\u001b[39;00m i \u001b[39min\u001b[39;00m x:\n\u001b[0;32m      <a href='vscode-notebook-cell:/c%3A/Users/janho/Coding/Python-Modellbildung-Simulation/Uebung7/aufgabe1.ipynb#X24sZmlsZQ%3D%3D?line=2'>3</a>\u001b[0m     \u001b[39mfor\u001b[39;00m j \u001b[39min\u001b[39;00m y:\n\u001b[1;32m----> <a href='vscode-notebook-cell:/c%3A/Users/janho/Coding/Python-Modellbildung-Simulation/Uebung7/aufgabe1.ipynb#X24sZmlsZQ%3D%3D?line=3'>4</a>\u001b[0m         Z[i][j] \u001b[39m=\u001b[39m np\u001b[39m.\u001b[39mrandom\u001b[39m.\u001b[39mnormal(\u001b[39m0\u001b[39m, \u001b[39m1\u001b[39m)\n",
      "\u001b[1;31mTypeError\u001b[0m: only integer scalar arrays can be converted to a scalar index"
     ]
    }
   ],
   "source": [
    "Z=[[0]*STEPS]*STEPS\n",
    "for i in x:\n",
    "    for j in y:\n",
    "        Z[i][j] = np.random.normal(0, 1)"
   ]
  },
  {
   "cell_type": "code",
   "execution_count": null,
   "metadata": {},
   "outputs": [],
   "source": [
    "# Function to minimize\n",
    "def objective_function(params):\n",
    "    coil, capacitor = params\n",
    "    numerator = [1 / (RESISTOR * capacitor), 0]\n",
    "    denominator = [1, 1 / (RESISTOR * capacitor), 1 / (coil * capacitor)]\n",
    "    system = signal.lti(numerator, denominator)\n",
    "    calculated = VOLTAGE * signal.step(system)[1]\n",
    "    return mean_root_error(calculated, u_a[\"measured\"])\n",
    "\n",
    "# Find the minimum RMSE\n",
    "initial_guess = [0.1**3, 0.1**2]  # Initial guess for COIL and CAPACITOR\n",
    "result = optimize.minimize(objective_function, x0=initial_guess)\n",
    "best_coil, best_capacitor = result.x\n",
    "min_rmse = result.fun\n",
    "\n",
    "print(f\"Optimal COIL: {best_coil}, Optimal CAPACITOR: {best_capacitor}, Minimum RMSE: {min_rmse}\")\n",
    "\n",
    "# Plot the contour of the RMSE values\n",
    "Z = np.zeros_like(x)\n",
    "for i in range(STEPS):\n",
    "    for j in range(STEPS):\n",
    "        Z[i, j] = mean_root_error(VOLTAGE * signal.step(signal.lti([1 / (RESISTOR * CAPACITOR), 0], [1, 1 / (RESISTOR * CAPACITOR), 1 / (COIL_LIST[i] * CAPACITOR_LIST[j])])[1])[1], u_a[\"measured\"])\n",
    "\n",
    "plt.contourf(x, y, Z, levels=50, cmap='viridis')\n",
    "plt.xlabel('COIL')\n",
    "plt.ylabel('CAPACITOR')\n",
    "plt.colorbar(label='RMSE')\n",
    "plt.title('RMSE Contour Plot')\n",
    "plt.show()\n",
    "\n",
    "\n",
    "\n",
    "# plt.contourf(x, y, Z)\n",
    "\n",
    "# ax = plt.figure().add_subplot(projection='3d')\n",
    "# ax.contour(x, y, Z, extend3d=True)\n"
   ]
  }
 ],
 "metadata": {
  "kernelspec": {
   "display_name": "Python 3",
   "language": "python",
   "name": "python3"
  },
  "language_info": {
   "codemirror_mode": {
    "name": "ipython",
    "version": 3
   },
   "file_extension": ".py",
   "mimetype": "text/x-python",
   "name": "python",
   "nbconvert_exporter": "python",
   "pygments_lexer": "ipython3",
   "version": "3.11.5"
  },
  "orig_nbformat": 4
 },
 "nbformat": 4,
 "nbformat_minor": 2
}
